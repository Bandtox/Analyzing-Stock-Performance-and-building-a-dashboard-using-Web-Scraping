{
  "nbformat": 4,
  "nbformat_minor": 0,
  "metadata": {
    "colab": {
      "provenance": [],
      "toc_visible": true
    },
    "kernelspec": {
      "name": "python3",
      "display_name": "Python 3"
    },
    "language_info": {
      "name": "python"
    }
  },
  "cells": [
    {
      "cell_type": "markdown",
      "source": [
        "#Data Science Tools and Ecosystem"
      ],
      "metadata": {
        "id": "hSf_NDA_nMlO"
      }
    },
    {
      "cell_type": "markdown",
      "source": [
        "##In this notebook, Data Science Tools and Ecosystem are summarized."
      ],
      "metadata": {
        "id": "v97UiL9Fnt5l"
      }
    },
    {
      "cell_type": "markdown",
      "source": [
        "###Some of the popular languages that Data Scientists use are:"
      ],
      "metadata": {
        "id": "PlbqTkW4oEBd"
      }
    },
    {
      "cell_type": "markdown",
      "source": [
        "1.Python\\\n",
        "2.R\\\n",
        "3.Julia\\\n",
        "4.Java"
      ],
      "metadata": {
        "id": "g6jliaAcoTj6"
      }
    },
    {
      "cell_type": "markdown",
      "source": [
        "###Some of the commonly used libraries used by Data Scientists include:"
      ],
      "metadata": {
        "id": "E6qyy7FGo2lE"
      }
    },
    {
      "cell_type": "markdown",
      "source": [
        "1.Pandas\\\n",
        "2.Numpy\\\n",
        "3.Matplotlib"
      ],
      "metadata": {
        "id": "ya6hgwOmo-Kh"
      }
    },
    {
      "cell_type": "markdown",
      "source": [
        "###Data Science Tools"
      ],
      "metadata": {
        "id": "Ahiyyu-WpOlr"
      }
    },
    {
      "cell_type": "markdown",
      "source": [
        "0|Tools|\n",
        "-|-----|\n",
        "0|MySql|\n",
        "1|MongoDB|\n",
        "2|Rstudio|\n"
      ],
      "metadata": {
        "id": "R8uYLE5Fp3I_"
      }
    },
    {
      "cell_type": "markdown",
      "source": [
        "###Below are a few examples of evaluating arithmetic expressions in Python"
      ],
      "metadata": {
        "id": "wdiVTndyqvTi"
      }
    },
    {
      "cell_type": "markdown",
      "source": [
        "A+B\\\n",
        "A+B+C\\\n",
        "A+=B\\\n",
        "A=A+B"
      ],
      "metadata": {
        "id": "GziucWVgq8Wg"
      }
    },
    {
      "cell_type": "code",
      "source": [
        "#This a simple arithmetic expression to mutiply then add integers\n",
        "(3*4)+5"
      ],
      "metadata": {
        "colab": {
          "base_uri": "https://localhost:8080/"
        },
        "id": "S6iGqK3IrF3t",
        "outputId": "f060ca56-4123-469e-a26e-6b46464ebd74"
      },
      "execution_count": 1,
      "outputs": [
        {
          "output_type": "execute_result",
          "data": {
            "text/plain": [
              "17"
            ]
          },
          "metadata": {},
          "execution_count": 1
        }
      ]
    },
    {
      "cell_type": "code",
      "source": [
        "#This will convert 200 minutes to hours by dividing by 60\n",
        "minutes=200\n",
        "hours=minutes/60\n",
        "print(hours,\"hrs\")\n",
        "hours=minutes//60\n",
        "print(hours,\"hrs\")"
      ],
      "metadata": {
        "colab": {
          "base_uri": "https://localhost:8080/"
        },
        "id": "_tPRnd24rZXo",
        "outputId": "f25a3b36-668a-4958-a9c3-92034c041690"
      },
      "execution_count": 7,
      "outputs": [
        {
          "output_type": "stream",
          "name": "stdout",
          "text": [
            "3.3333333333333335 hrs\n",
            "3 hrs\n"
          ]
        }
      ]
    },
    {
      "cell_type": "markdown",
      "source": [
        "**Objectives**:"
      ],
      "metadata": {
        "id": "O1en9R6Asm87"
      }
    },
    {
      "cell_type": "markdown",
      "source": [
        "+ List popular languages for Data Science\n",
        "- Some of the commonly used libraries used by Data Scientists\n",
        "* Data Science Tools\n"
      ],
      "metadata": {
        "id": "MW7tIqdfthAM"
      }
    },
    {
      "cell_type": "markdown",
      "source": [
        "##Author\n",
        "Harsh Raj"
      ],
      "metadata": {
        "id": "j4kdQWiJuTGa"
      }
    },
    {
      "cell_type": "code",
      "source": [],
      "metadata": {
        "id": "EcEdMlIDudrA"
      },
      "execution_count": null,
      "outputs": []
    }
  ]
}